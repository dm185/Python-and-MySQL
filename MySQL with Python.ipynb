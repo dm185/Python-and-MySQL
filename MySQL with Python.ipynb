{
 "cells": [
  {
   "cell_type": "markdown",
   "metadata": {},
   "source": [
    "# Python and MySQL I"
   ]
  },
  {
   "cell_type": "markdown",
   "metadata": {},
   "source": [
    "After having done some online courses on MySQL, I wanted to get some practice on running queries but combining Python with MySQL. After having found some resources to enable me to run queries from a Jupyter Notebook, I decided to get some practice creating a table and then running some basic queries from this table. This notebook may be used as a tutorial since it will provide a reference on how to run various queries. The focus on this project is getting comfortable with running queries using the SELECT, FROM, WHERE, ORDER BY, and LIMIT clauses. There is some practice with using logical operators along with some practice with string Functions. Each code cell with a query begins with a short description of the task followed by the query to print out the desired output. The goal of each subsequent project is to help potentially add more skills to whoever may be using these as a guide. Each project will involve more complex queries. The data in this table is fictional, but it still provides a way to practice writing SQL queries. \n",
    "\n",
    "Topics and clauses covered in this project:\n",
    "* CREATE\n",
    "* INSERT\n",
    "* SELECT\n",
    "* FROM\n",
    "* LIMIT\n",
    "* WHERE\n",
    "* ORDER BY \n",
    "* DISTINCT\n",
    "* LIKE\n",
    "* LOGICAL OPERATORS (AND, OR)\n",
    "* IS NULL\n",
    "* IS NOT NULL\n",
    "* IN\n",
    "* Various string functions"
   ]
  },
  {
   "cell_type": "code",
   "execution_count": 1,
   "metadata": {},
   "outputs": [
    {
     "name": "stdout",
     "output_type": "stream",
     "text": [
      "<mysql.connector.connection.MySQLConnection object at 0x000002288B976148>\n"
     ]
    }
   ],
   "source": [
    "import mysql.connector\n",
    "mydb = mysql.connector.connect(host='127.0.0.1', user='HIDDEN', password='HIDDEN', database = 'python_fitness',use_pure=True)\n",
    "print(mydb)\n"
   ]
  },
  {
   "cell_type": "code",
   "execution_count": 2,
   "metadata": {},
   "outputs": [],
   "source": [
    "mysql = mydb.cursor(buffered = True)"
   ]
  },
  {
   "cell_type": "code",
   "execution_count": 3,
   "metadata": {},
   "outputs": [],
   "source": [
    "# mysql.execute('CREATE DATABASE python_fitness')"
   ]
  },
  {
   "cell_type": "code",
   "execution_count": null,
   "metadata": {},
   "outputs": [],
   "source": [
    "mysql.execute(\"CREATE TABLE trainers (id INT AUTO_INCREMENT PRIMARY KEY, first_name VARCHAR(40) NOT NULL, last_name VARCHAR(40),\\\n",
    " age INT, gender CHAR(1), ranking VARCHAR(20) DEFAULT 'PT1', number_of_clients INT, personality VARCHAR(20) NOT NULL)\") \n",
    "             \n",
    "\n",
    " "
   ]
  },
  {
   "cell_type": "code",
   "execution_count": null,
   "metadata": {},
   "outputs": [],
   "source": [
    "sql =  \"INSERT INTO trainers (first_name, last_name, age, gender, ranking, number_of_clients, personality) \\\n",
    "VALUES (%s, %s, %s, %s, %s, %s, %s)\" \n",
    "value = ('Jack', 'Rabbit', 41, 'M', 'PT3', 44, 'extrovert')\n",
    "mysql.execute(sql, value)\n",
    "mydb.commit()\n",
    "print(mysql.rowcount, \"record(s) inserted.\")\n",
    " "
   ]
  },
  {
   "cell_type": "code",
   "execution_count": 4,
   "metadata": {},
   "outputs": [
    {
     "name": "stdout",
     "output_type": "stream",
     "text": [
      "(1, 'Jack', 'Rabbit', 41, 'M', 'PT3', 44, 'extrovert', None)\n",
      "(2, 'Donlee', 'Milar', 45, 'M', 'Master Trainer', 0, 'introvert', None)\n",
      "(3, 'Vanessa', 'Cortez', 38, 'F', 'Master Trainer', 45, 'extrovert', None)\n",
      "(4, 'Mike', 'Wilkersand', 29, 'M', 'PT3', 22, 'extrovert', None)\n",
      "(5, 'James', 'Pelowski', 31, 'M', 'PT2', 8, 'introvert', None)\n",
      "(6, 'Sandra', 'Nicholes', 28, 'F', 'PT1', 5, 'introvert', None)\n",
      "(7, 'Kate', 'Kalowski', 41, 'F', 'Master Trainer', 33, 'extrovert', None)\n",
      "(8, 'Earnest', 'Finsky', 48, 'M', 'PT2', 3, 'introvert', None)\n",
      "(9, 'John', 'Earnst', 21, 'M', 'PT3', 17, 'extrovert', None)\n",
      "(10, 'Tate', 'Michaels', 23, 'M', 'PT3', 20, 'extrovert', None)\n",
      "(11, 'Barbara', 'Vivoski', 27, 'F', 'Master Trainer', 26, 'extrovert', None)\n",
      "(12, 'Wilmer', 'Smith', 24, 'M', 'PT1', 2, 'introvert', None)\n",
      "(13, 'Bart', 'Solemny', 33, 'M', 'PT3', 18, 'introvert', None)\n",
      "(14, 'Jennifer', 'Shulz', 28, 'F', 'Master Trainer', 1, 'extrovert', None)\n",
      "(15, 'Camaryn', 'Coops', 21, 'F', 'PT1', 3, 'extrovert', None)\n",
      "(16, 'Sandra', 'Livingston', 31, 'F', 'Master Trainer', 11, 'introvert', None)\n",
      "(17, 'Brad', 'Wiggins', 25, 'M', 'PT3', 19, 'extrovert', None)\n",
      "(18, 'Shelby', 'Thorp', 32, 'F', 'PT2', 8, 'introvert', None)\n",
      "(19, 'Sean', 'Smith', 41, 'M', 'Master Trainer', 31, 'introvert', None)\n",
      "(20, 'Sally', 'Mae', 61, 'F', 'Master Trainer', 2, 'extrovert', None)\n"
     ]
    }
   ],
   "source": [
    "sql = 'SELECT * FROM trainers'\n",
    "mysql.execute(sql)\n",
    "result = mysql.fetchall()\n",
    "for x in result:\n",
    "    print(x)"
   ]
  },
  {
   "cell_type": "code",
   "execution_count": null,
   "metadata": {},
   "outputs": [],
   "source": [
    "sql = \"INSERT INTO trainers (first_name, last_name, age, gender, ranking, number_of_clients, personality) \\\n",
    "VALUES (%s, %s, %s, %s, %s, %s, %s)\" \n",
    "values = [\n",
    "    ('Donlee', 'Milar', 45, 'M', 'Master Trainer', 0, 'introvert'), \\\n",
    "    ('Vanessa', 'Cortez', 38, 'F', 'Master Trainer', 45, 'extrovert'), \\\n",
    "    ('Mike', 'Wilkersand', 29, 'M', 'PT3', 22, 'extrovert'), \\\n",
    "    ('James', 'Pelowski', 31, 'M', 'PT2', 8, 'introvert'), \\\n",
    "    ('Sandra', 'Nicholes', 28, 'F', 'PT1', 5, 'introvert'), \\\n",
    "    ('Kate', 'Kalowski', 41, 'F', 'Master Trainer', 33, 'extrovert'), \\\n",
    "    ('Earnest', 'Finsky', 48, 'M', 'PT2', 3, 'introvert'), \\\n",
    "    ('John', 'Earnst', 21, 'M', 'PT3', 17, 'extrovert'), \\\n",
    "    ('Tate', 'Michaels', 23, 'M', 'PT3', 20, 'extrovert'), \\\n",
    "    ('Barbara', 'Vivoski', 27, 'F', 'Master Trainer', 26, 'extrovert'), \\\n",
    "    ('Wilmer', 'Smith', 24, 'M', 'PT1', 2, 'introvert'), \\\n",
    "    ('Bart', 'Solemny', 33, 'M', 'PT3', 18, 'introvert'), \\\n",
    "    ('Jennifer', 'Shulz', 28, 'F', 'Master Trainer', 1, 'extrovert'), \\\n",
    "    ('Camaryn', 'Coops', 21, 'F', 'PT1', 3, 'extrovert'), \\\n",
    "    ('Sandra', 'Livingston', 31, 'F', 'Master Trainer', 11, 'introvert'), \\\n",
    "    ('Brad', 'Wiggins', 25, 'M', 'PT3', 19, 'extrovert'), \\\n",
    "    ('Shelby', 'Thorp', 32, 'F', 'PT2', 8, 'introvert'), \\\n",
    "    ('Sean', 'Smith', 41, 'M', 'Master Trainer', 31, 'introvert'), \\\n",
    "    ('Sally', 'Mae', 61, 'F', 'Master Trainer', 2, 'extrovert')\n",
    "]\n",
    "mysql.executemany(sql, values)\n",
    "mydb.commit()\n",
    "print(mysql.rowcount, 'record(s) inserted.')"
   ]
  },
  {
   "cell_type": "code",
   "execution_count": 5,
   "metadata": {},
   "outputs": [
    {
     "name": "stdout",
     "output_type": "stream",
     "text": [
      "(1, 'Jack', 'Rabbit', 41, 'M', 'PT3', 44, 'extrovert', None)\n",
      "(2, 'Donlee', 'Milar', 45, 'M', 'Master Trainer', 0, 'introvert', None)\n",
      "(3, 'Vanessa', 'Cortez', 38, 'F', 'Master Trainer', 45, 'extrovert', None)\n",
      "(4, 'Mike', 'Wilkersand', 29, 'M', 'PT3', 22, 'extrovert', None)\n",
      "(5, 'James', 'Pelowski', 31, 'M', 'PT2', 8, 'introvert', None)\n",
      "(6, 'Sandra', 'Nicholes', 28, 'F', 'PT1', 5, 'introvert', None)\n",
      "(7, 'Kate', 'Kalowski', 41, 'F', 'Master Trainer', 33, 'extrovert', None)\n",
      "(8, 'Earnest', 'Finsky', 48, 'M', 'PT2', 3, 'introvert', None)\n",
      "(9, 'John', 'Earnst', 21, 'M', 'PT3', 17, 'extrovert', None)\n",
      "(10, 'Tate', 'Michaels', 23, 'M', 'PT3', 20, 'extrovert', None)\n"
     ]
    }
   ],
   "source": [
    "# Display only the first 10 rows of data with all columns printed out\n",
    "sql = 'SELECT * FROM trainers LIMIT 10'\n",
    "mysql.execute(sql)\n",
    "result = mysql.fetchall()\n",
    "for x in result:\n",
    "    print(x)"
   ]
  },
  {
   "cell_type": "code",
   "execution_count": 6,
   "metadata": {},
   "outputs": [
    {
     "name": "stdout",
     "output_type": "stream",
     "text": [
      "('Jack', 'Rabbit', 'PT3')\n",
      "('Donlee', 'Milar', 'Master Trainer')\n",
      "('Vanessa', 'Cortez', 'Master Trainer')\n",
      "('Mike', 'Wilkersand', 'PT3')\n",
      "('James', 'Pelowski', 'PT2')\n",
      "('Sandra', 'Nicholes', 'PT1')\n",
      "('Kate', 'Kalowski', 'Master Trainer')\n",
      "('Earnest', 'Finsky', 'PT2')\n"
     ]
    }
   ],
   "source": [
    "# Selecing only the first and last columns along with the ranking column limit the result to only the first 8 rows\n",
    "sql = 'Select first_name, last_name, ranking FROM trainers LIMIT 8'\n",
    "mysql.execute(sql)\n",
    "result = mysql.fetchall()\n",
    "for x in result:\n",
    "    print(x)"
   ]
  },
  {
   "cell_type": "code",
   "execution_count": 7,
   "metadata": {},
   "outputs": [
    {
     "name": "stdout",
     "output_type": "stream",
     "text": [
      "(2, 'Donlee', 'Milar', 45, 'M', 'Master Trainer', 0, 'introvert', None)\n",
      "(3, 'Vanessa', 'Cortez', 38, 'F', 'Master Trainer', 45, 'extrovert', None)\n",
      "(7, 'Kate', 'Kalowski', 41, 'F', 'Master Trainer', 33, 'extrovert', None)\n",
      "(11, 'Barbara', 'Vivoski', 27, 'F', 'Master Trainer', 26, 'extrovert', None)\n",
      "(14, 'Jennifer', 'Shulz', 28, 'F', 'Master Trainer', 1, 'extrovert', None)\n",
      "(16, 'Sandra', 'Livingston', 31, 'F', 'Master Trainer', 11, 'introvert', None)\n",
      "(19, 'Sean', 'Smith', 41, 'M', 'Master Trainer', 31, 'introvert', None)\n",
      "(20, 'Sally', 'Mae', 61, 'F', 'Master Trainer', 2, 'extrovert', None)\n"
     ]
    }
   ],
   "source": [
    "sql =  \"SELECT * FROM trainers WHERE ranking = 'Master Trainer'\"\n",
    "mysql.execute(sql)\n",
    "result = mysql.fetchall()\n",
    "for x in result:\n",
    "    print(x)"
   ]
  },
  {
   "cell_type": "code",
   "execution_count": 8,
   "metadata": {},
   "outputs": [
    {
     "name": "stdout",
     "output_type": "stream",
     "text": [
      "(2, 'Donlee', 'Milar', 45, 'M', 'Master Trainer', 0, 'introvert', None)\n",
      "(3, 'Vanessa', 'Cortez', 38, 'F', 'Master Trainer', 45, 'extrovert', None)\n",
      "(7, 'Kate', 'Kalowski', 41, 'F', 'Master Trainer', 33, 'extrovert', None)\n",
      "(11, 'Barbara', 'Vivoski', 27, 'F', 'Master Trainer', 26, 'extrovert', None)\n",
      "(14, 'Jennifer', 'Shulz', 28, 'F', 'Master Trainer', 1, 'extrovert', None)\n",
      "(16, 'Sandra', 'Livingston', 31, 'F', 'Master Trainer', 11, 'introvert', None)\n",
      "(19, 'Sean', 'Smith', 41, 'M', 'Master Trainer', 31, 'introvert', None)\n",
      "(20, 'Sally', 'Mae', 61, 'F', 'Master Trainer', 2, 'extrovert', None)\n"
     ]
    }
   ],
   "source": [
    "# To prevent SQL injection store the query value in a separate variable\n",
    "# The trainer's ranking we want to select is assigned to a variable named ranking\n",
    "sql = 'SELECT * FROM  trainers WHERE ranking = %s'\n",
    "ranking = ('Master Trainer', )\n",
    "mysql.execute(sql, ranking)\n",
    "result = mysql.fetchall()\n",
    "for x in result:\n",
    "    print(x)"
   ]
  },
  {
   "cell_type": "markdown",
   "metadata": {},
   "source": [
    "Since this MySQL project/tutorial or practice session consists of working with fake data that I created, parameterized queries are will not be necessary. However, when working with real data that can contain sensitive information the use of parameterized queries to prevent SQL injection should be highly considered. \n",
    "\n",
    "The main purpose of this project is to demonstrate knowledge in connecting MySQL with a Jupyter notebook and being able to run queries successfully. The SQL queries will start of as basic and progress into more complex queries.\n",
    " "
   ]
  },
  {
   "cell_type": "code",
   "execution_count": 9,
   "metadata": {},
   "outputs": [
    {
     "name": "stdout",
     "output_type": "stream",
     "text": [
      "('Sally', 'Mae', 61)\n",
      "('Earnest', 'Finsky', 48)\n",
      "('Donlee', 'Milar', 45)\n",
      "('Jack', 'Rabbit', 41)\n",
      "('Kate', 'Kalowski', 41)\n",
      "('Sean', 'Smith', 41)\n",
      "('Vanessa', 'Cortez', 38)\n",
      "('Bart', 'Solemny', 33)\n",
      "('Shelby', 'Thorp', 32)\n",
      "('James', 'Pelowski', 31)\n",
      "('Sandra', 'Livingston', 31)\n",
      "('Mike', 'Wilkersand', 29)\n",
      "('Sandra', 'Nicholes', 28)\n",
      "('Jennifer', 'Shulz', 28)\n",
      "('Barbara', 'Vivoski', 27)\n",
      "('Brad', 'Wiggins', 25)\n",
      "('Wilmer', 'Smith', 24)\n",
      "('Tate', 'Michaels', 23)\n",
      "('John', 'Earnst', 21)\n",
      "('Camaryn', 'Coops', 21)\n"
     ]
    }
   ],
   "source": [
    "# Select the first name, last name, and age columns and order by age descending (oldest to youngest)\n",
    "sql =  \"SELECT first_name, last_name, age FROM trainers \\\n",
    "ORDER BY age DESC\"\n",
    "mysql.execute(sql)\n",
    "result = mysql.fetchall()\n",
    "for x in result:\n",
    "    print(x)"
   ]
  },
  {
   "cell_type": "code",
   "execution_count": 10,
   "metadata": {},
   "outputs": [
    {
     "name": "stdout",
     "output_type": "stream",
     "text": [
      "('PT3',)\n",
      "('Master Trainer',)\n",
      "('PT2',)\n",
      "('PT1',)\n"
     ]
    }
   ],
   "source": [
    "# Using the DISTINCT statement to find out the different trainer rankings\n",
    "sql = 'SELECT DISTINCT ranking FROM trainers'\n",
    "mysql.execute(sql)\n",
    "result = mysql.fetchall()\n",
    "for x in result:\n",
    "    print(x)"
   ]
  },
  {
   "cell_type": "code",
   "execution_count": 11,
   "metadata": {},
   "outputs": [
    {
     "name": "stdout",
     "output_type": "stream",
     "text": [
      "(19, 'Sean', 'Smith', 41, 'M', 'Master Trainer', 31, 'introvert', None)\n",
      "(13, 'Bart', 'Solemny', 33, 'M', 'PT3', 18, 'introvert', None)\n",
      "(16, 'Sandra', 'Livingston', 31, 'F', 'Master Trainer', 11, 'introvert', None)\n",
      "(5, 'James', 'Pelowski', 31, 'M', 'PT2', 8, 'introvert', None)\n",
      "(18, 'Shelby', 'Thorp', 32, 'F', 'PT2', 8, 'introvert', None)\n",
      "(6, 'Sandra', 'Nicholes', 28, 'F', 'PT1', 5, 'introvert', None)\n",
      "(8, 'Earnest', 'Finsky', 48, 'M', 'PT2', 3, 'introvert', None)\n",
      "(12, 'Wilmer', 'Smith', 24, 'M', 'PT1', 2, 'introvert', None)\n",
      "(2, 'Donlee', 'Milar', 45, 'M', 'Master Trainer', 0, 'introvert', None)\n"
     ]
    }
   ],
   "source": [
    "# Select only the data where the trainer is an introvert and order the results by the number of clients descending\n",
    "sql = 'SELECT * FROM trainers \\\n",
    "WHERE personality = \"introvert\" ORDER BY number_of_clients DESC'\n",
    "mysql.execute(sql)\n",
    "result = mysql.fetchall()\n",
    "for x in result:\n",
    "    print(x)"
   ]
  },
  {
   "cell_type": "code",
   "execution_count": 3,
   "metadata": {},
   "outputs": [],
   "source": [
    "# Typing this repetitive code is time consuming, I will create a function as a remedy. \n",
    "def query(sql):\n",
    "    mysql.execute(sql)\n",
    "    result = mysql.fetchall()\n",
    "    for x in result:\n",
    "        print(x)"
   ]
  },
  {
   "cell_type": "code",
   "execution_count": 13,
   "metadata": {},
   "outputs": [
    {
     "name": "stdout",
     "output_type": "stream",
     "text": [
      "(1, 'Jack', 'Rabbit', 41, 'M', 'PT3', 44, 'extrovert', None)\n",
      "(2, 'Donlee', 'Milar', 45, 'M', 'Master Trainer', 0, 'introvert', None)\n",
      "(3, 'Vanessa', 'Cortez', 38, 'F', 'Master Trainer', 45, 'extrovert', None)\n",
      "(4, 'Mike', 'Wilkersand', 29, 'M', 'PT3', 22, 'extrovert', None)\n",
      "(5, 'James', 'Pelowski', 31, 'M', 'PT2', 8, 'introvert', None)\n"
     ]
    }
   ],
   "source": [
    "# Testing out the function with simple query limiting the results to five\n",
    "query('SELECT * FROM trainers LIMIT 5')"
   ]
  },
  {
   "cell_type": "code",
   "execution_count": 14,
   "metadata": {},
   "outputs": [
    {
     "name": "stdout",
     "output_type": "stream",
     "text": [
      "('Jack Rabbit',)\n",
      "('Donlee Milar',)\n",
      "('Vanessa Cortez',)\n",
      "('Mike Wilkersand',)\n",
      "('James Pelowski',)\n",
      "('Sandra Nicholes',)\n",
      "('Kate Kalowski',)\n",
      "('Earnest Finsky',)\n",
      "('John Earnst',)\n",
      "('Tate Michaels',)\n",
      "('Barbara Vivoski',)\n",
      "('Wilmer Smith',)\n",
      "('Bart Solemny',)\n",
      "('Jennifer Shulz',)\n",
      "('Camaryn Coops',)\n",
      "('Sandra Livingston',)\n",
      "('Brad Wiggins',)\n",
      "('Shelby Thorp',)\n",
      "('Sean Smith',)\n",
      "('Sally Mae',)\n"
     ]
    }
   ],
   "source": [
    "# Concatenate the first and last name columns \n",
    "query('SELECT CONCAT(first_name, \" \", last_name) FROM trainers') # \" \" prevents the name from displaying like JackRabbit"
   ]
  },
  {
   "cell_type": "code",
   "execution_count": 15,
   "metadata": {},
   "outputs": [
    {
     "name": "stdout",
     "output_type": "stream",
     "text": [
      "('Jack Rabbit has 44 clients.',)\n",
      "('Donlee Milar has 0 clients.',)\n",
      "('Vanessa Cortez has 45 clients.',)\n",
      "('Mike Wilkersand has 22 clients.',)\n",
      "('James Pelowski has 8 clients.',)\n",
      "('Sandra Nicholes has 5 clients.',)\n",
      "('Kate Kalowski has 33 clients.',)\n",
      "('Earnest Finsky has 3 clients.',)\n",
      "('John Earnst has 17 clients.',)\n",
      "('Tate Michaels has 20 clients.',)\n",
      "('Barbara Vivoski has 26 clients.',)\n",
      "('Wilmer Smith has 2 clients.',)\n",
      "('Bart Solemny has 18 clients.',)\n",
      "('Jennifer Shulz has 1 clients.',)\n",
      "('Camaryn Coops has 3 clients.',)\n",
      "('Sandra Livingston has 11 clients.',)\n",
      "('Brad Wiggins has 19 clients.',)\n",
      "('Shelby Thorp has 8 clients.',)\n",
      "('Sean Smith has 31 clients.',)\n",
      "('Sally Mae has 2 clients.',)\n"
     ]
    }
   ],
   "source": [
    "# Expand on the above query to write out a sentence stating how many clients each trainer has.\n",
    "query('SELECT CONCAT(first_name, \" \", last_name, \" \", \"has\", \" \", number_of_clients, \" \", \"clients.\") FROM trainers')"
   ]
  },
  {
   "cell_type": "code",
   "execution_count": 16,
   "metadata": {},
   "outputs": [
    {
     "name": "stdout",
     "output_type": "stream",
     "text": [
      "('James', 'Pelowski')\n",
      "('Kate', 'Kalowski')\n",
      "('Barbara', 'Vivoski')\n"
     ]
    }
   ],
   "source": [
    "# Using the LIKE operator to only print out trainers that have have a last name ending in 'ski'\n",
    "query('SELECT first_name, last_name FROM trainers \\\n",
    "WHERE last_name LIKE \"%ski\"')"
   ]
  },
  {
   "cell_type": "code",
   "execution_count": 17,
   "metadata": {},
   "outputs": [],
   "source": [
    "# Adding another column to the trainers table by using the ALTER TABLE statement\n",
    "# mysql.execute('ALTER TABLE trainers ADD COLUMN education VARCHAR(30)')"
   ]
  },
  {
   "cell_type": "code",
   "execution_count": 18,
   "metadata": {},
   "outputs": [
    {
     "name": "stdout",
     "output_type": "stream",
     "text": [
      "('id', 'int', 'NO', 'PRI', None, 'auto_increment')\n",
      "('first_name', 'varchar(40)', 'NO', '', None, '')\n",
      "('last_name', 'varchar(40)', 'YES', '', None, '')\n",
      "('age', 'int', 'YES', '', None, '')\n",
      "('gender', 'char(1)', 'YES', '', None, '')\n",
      "('ranking', 'varchar(20)', 'YES', '', 'PT1', '')\n",
      "('number_of_clients', 'int', 'YES', '', None, '')\n",
      "('personality', 'varchar(20)', 'NO', '', None, '')\n",
      "('education', 'varchar(30)', 'YES', '', None, '')\n"
     ]
    }
   ],
   "source": [
    "# Using the DESC statement allows you to see the columns in your table along with the data types each column accepts\n",
    "query('DESC trainers')"
   ]
  },
  {
   "cell_type": "code",
   "execution_count": 19,
   "metadata": {},
   "outputs": [
    {
     "name": "stdout",
     "output_type": "stream",
     "text": [
      "(1, 'Jack', 'Rabbit', 41, 'M', 'PT3', 44, 'extrovert', None)\n",
      "(2, 'Donlee', 'Milar', 45, 'M', 'Master Trainer', 0, 'introvert', None)\n",
      "(3, 'Vanessa', 'Cortez', 38, 'F', 'Master Trainer', 45, 'extrovert', None)\n",
      "(4, 'Mike', 'Wilkersand', 29, 'M', 'PT3', 22, 'extrovert', None)\n",
      "(5, 'James', 'Pelowski', 31, 'M', 'PT2', 8, 'introvert', None)\n",
      "(6, 'Sandra', 'Nicholes', 28, 'F', 'PT1', 5, 'introvert', None)\n",
      "(7, 'Kate', 'Kalowski', 41, 'F', 'Master Trainer', 33, 'extrovert', None)\n",
      "(8, 'Earnest', 'Finsky', 48, 'M', 'PT2', 3, 'introvert', None)\n",
      "(9, 'John', 'Earnst', 21, 'M', 'PT3', 17, 'extrovert', None)\n",
      "(10, 'Tate', 'Michaels', 23, 'M', 'PT3', 20, 'extrovert', None)\n",
      "(11, 'Barbara', 'Vivoski', 27, 'F', 'Master Trainer', 26, 'extrovert', None)\n",
      "(12, 'Wilmer', 'Smith', 24, 'M', 'PT1', 2, 'introvert', None)\n",
      "(13, 'Bart', 'Solemny', 33, 'M', 'PT3', 18, 'introvert', None)\n",
      "(14, 'Jennifer', 'Shulz', 28, 'F', 'Master Trainer', 1, 'extrovert', None)\n",
      "(15, 'Camaryn', 'Coops', 21, 'F', 'PT1', 3, 'extrovert', None)\n",
      "(16, 'Sandra', 'Livingston', 31, 'F', 'Master Trainer', 11, 'introvert', None)\n",
      "(17, 'Brad', 'Wiggins', 25, 'M', 'PT3', 19, 'extrovert', None)\n",
      "(18, 'Shelby', 'Thorp', 32, 'F', 'PT2', 8, 'introvert', None)\n",
      "(19, 'Sean', 'Smith', 41, 'M', 'Master Trainer', 31, 'introvert', None)\n",
      "(20, 'Sally', 'Mae', 61, 'F', 'Master Trainer', 2, 'extrovert', None)\n"
     ]
    }
   ],
   "source": [
    "# Displaying all data from the trainers table\n",
    "query('SELECT * FROM trainers')"
   ]
  },
  {
   "cell_type": "markdown",
   "metadata": {},
   "source": [
    "In the next few code cells, I will be inserting values into the education column by using the UPDATE statement along with using the IN, NOT, OR, & AND operators to select multiple values from the first_name column to insert the education level."
   ]
  },
  {
   "cell_type": "code",
   "execution_count": 24,
   "metadata": {},
   "outputs": [],
   "source": [
    "# Adding in some values to the education column. As of now all values are None (Null) in the education column\n",
    "mysql.execute(\"UPDATE trainers SET education = 'Doctorate' \\\n",
    "WHERE first_name IN ('Vanessa', 'Earnest', 'Sean')\")\n",
    "mydb.commit() # Must use this command to have changes applied to the MySQL database"
   ]
  },
  {
   "cell_type": "code",
   "execution_count": 25,
   "metadata": {},
   "outputs": [
    {
     "name": "stdout",
     "output_type": "stream",
     "text": [
      "(3, 'Vanessa', 'Cortez', 38, 'F', 'Master Trainer', 45, 'extrovert', 'Doctorate')\n",
      "(8, 'Earnest', 'Finsky', 48, 'M', 'PT2', 3, 'introvert', 'Doctorate')\n",
      "(19, 'Sean', 'Smith', 41, 'M', 'Master Trainer', 31, 'introvert', 'Doctorate')\n"
     ]
    }
   ],
   "source": [
    "# Inspecting to see that I updated the table successfully \n",
    "query('SELECT * FROM trainers WHERE education = \"Doctorate\"')"
   ]
  },
  {
   "cell_type": "code",
   "execution_count": 33,
   "metadata": {},
   "outputs": [],
   "source": [
    "# Assigning an education level of Master's using the AND operator\n",
    "mysql.execute(\"UPDATE trainers SET education = 'Master'\\\n",
    "WHERE last_name = 'Milar' OR ranking = 'PT3'\")\n",
    "mydb.commit()"
   ]
  },
  {
   "cell_type": "code",
   "execution_count": 34,
   "metadata": {},
   "outputs": [
    {
     "name": "stdout",
     "output_type": "stream",
     "text": [
      "(1, 'Jack', 'Rabbit', 41, 'M', 'PT3', 44, 'extrovert', 'Master')\n",
      "(2, 'Donlee', 'Milar', 45, 'M', 'Master Trainer', 0, 'introvert', 'Master')\n",
      "(3, 'Vanessa', 'Cortez', 38, 'F', 'Master Trainer', 45, 'extrovert', 'Doctorate')\n",
      "(4, 'Mike', 'Wilkersand', 29, 'M', 'PT3', 22, 'extrovert', 'Master')\n",
      "(8, 'Earnest', 'Finsky', 48, 'M', 'PT2', 3, 'introvert', 'Doctorate')\n",
      "(9, 'John', 'Earnst', 21, 'M', 'PT3', 17, 'extrovert', 'Master')\n",
      "(10, 'Tate', 'Michaels', 23, 'M', 'PT3', 20, 'extrovert', 'Master')\n",
      "(13, 'Bart', 'Solemny', 33, 'M', 'PT3', 18, 'introvert', 'Master')\n",
      "(17, 'Brad', 'Wiggins', 25, 'M', 'PT3', 19, 'extrovert', 'Master')\n",
      "(19, 'Sean', 'Smith', 41, 'M', 'Master Trainer', 31, 'introvert', 'Doctorate')\n"
     ]
    }
   ],
   "source": [
    "# Select only the columns that have an education level listed by using the OR operator\n",
    "query(\"SELECT * FROM trainers \\\n",
    "WHERE education = 'Doctorate' OR education = 'Master'\")"
   ]
  },
  {
   "cell_type": "code",
   "execution_count": 36,
   "metadata": {},
   "outputs": [
    {
     "name": "stdout",
     "output_type": "stream",
     "text": [
      "(5, 'James', 'Pelowski', 31, 'M', 'PT2', 8, 'introvert', None)\n",
      "(6, 'Sandra', 'Nicholes', 28, 'F', 'PT1', 5, 'introvert', None)\n",
      "(7, 'Kate', 'Kalowski', 41, 'F', 'Master Trainer', 33, 'extrovert', None)\n",
      "(11, 'Barbara', 'Vivoski', 27, 'F', 'Master Trainer', 26, 'extrovert', None)\n",
      "(12, 'Wilmer', 'Smith', 24, 'M', 'PT1', 2, 'introvert', None)\n",
      "(14, 'Jennifer', 'Shulz', 28, 'F', 'Master Trainer', 1, 'extrovert', None)\n",
      "(15, 'Camaryn', 'Coops', 21, 'F', 'PT1', 3, 'extrovert', None)\n",
      "(16, 'Sandra', 'Livingston', 31, 'F', 'Master Trainer', 11, 'introvert', None)\n",
      "(18, 'Shelby', 'Thorp', 32, 'F', 'PT2', 8, 'introvert', None)\n",
      "(20, 'Sally', 'Mae', 61, 'F', 'Master Trainer', 2, 'extrovert', None)\n"
     ]
    }
   ],
   "source": [
    "# Figuring out where there are still Null values in the education column by using the IS NULL syntax\n",
    "query(\"SELECT * FROM trainers \\\n",
    "WHERE education IS NULL\")"
   ]
  },
  {
   "cell_type": "code",
   "execution_count": 37,
   "metadata": {},
   "outputs": [
    {
     "name": "stdout",
     "output_type": "stream",
     "text": [
      "(1, 'Jack', 'Rabbit', 41, 'M', 'PT3', 44, 'extrovert', 'Master')\n",
      "(2, 'Donlee', 'Milar', 45, 'M', 'Master Trainer', 0, 'introvert', 'Master')\n",
      "(3, 'Vanessa', 'Cortez', 38, 'F', 'Master Trainer', 45, 'extrovert', 'Doctorate')\n",
      "(4, 'Mike', 'Wilkersand', 29, 'M', 'PT3', 22, 'extrovert', 'Master')\n",
      "(8, 'Earnest', 'Finsky', 48, 'M', 'PT2', 3, 'introvert', 'Doctorate')\n",
      "(9, 'John', 'Earnst', 21, 'M', 'PT3', 17, 'extrovert', 'Master')\n",
      "(10, 'Tate', 'Michaels', 23, 'M', 'PT3', 20, 'extrovert', 'Master')\n",
      "(13, 'Bart', 'Solemny', 33, 'M', 'PT3', 18, 'introvert', 'Master')\n",
      "(17, 'Brad', 'Wiggins', 25, 'M', 'PT3', 19, 'extrovert', 'Master')\n",
      "(19, 'Sean', 'Smith', 41, 'M', 'Master Trainer', 31, 'introvert', 'Doctorate')\n"
     ]
    }
   ],
   "source": [
    "# We can figure out which columns do not have a Null value in the education column bu using the IS NOT NULL syntax\n",
    "query(\"SELECT * FROM trainers \\\n",
    "WHERE education IS NOT NULL\")"
   ]
  },
  {
   "cell_type": "code",
   "execution_count": 39,
   "metadata": {},
   "outputs": [],
   "source": [
    "# Updating the trainers table by assigning an education of 'Bachelor' for rows that had a Null value in the education column\n",
    "mysql.execute(\"UPDATE trainers SET education = 'Bachelor' \\\n",
    "WHERE education IS NULL\")\n",
    "mydb.commit()"
   ]
  },
  {
   "cell_type": "code",
   "execution_count": 40,
   "metadata": {},
   "outputs": [
    {
     "name": "stdout",
     "output_type": "stream",
     "text": [
      "(0,)\n"
     ]
    }
   ],
   "source": [
    "# Checking to see that there are no null values by using the COUNT() function. This should return 0\n",
    "query('SELECT COUNT(*) FROM trainers \\\n",
    "WHERE education IS NULL')"
   ]
  },
  {
   "cell_type": "code",
   "execution_count": 47,
   "metadata": {},
   "outputs": [
    {
     "name": "stdout",
     "output_type": "stream",
     "text": [
      "('James', 'Pelowski', 'PT2')\n",
      "('Sandra', 'Nicholes', 'PT1')\n",
      "('Kate', 'Kalowski', 'Master Trainer')\n",
      "('Barbara', 'Vivoski', 'Master Trainer')\n",
      "('Wilmer', 'Smith', 'PT1')\n",
      "('Camaryn', 'Coops', 'PT1')\n",
      "('Shelby', 'Thorp', 'PT2')\n"
     ]
    }
   ],
   "source": [
    "# Using the OR operator to filter the results\n",
    "# Select only last names that end in 'ski', and begin with T and end with p, or have a ranking of PT1\n",
    "# Trainers that have last names ending with 'ski', or a last name of Thorp, or a ranking of PT1 should be printed out.\n",
    "query(\"SELECT first_name, last_name, ranking FROM trainers \\\n",
    "WHERE (last_name LIKE '%ski' OR last_name LIKE 'T%p') OR ranking = 'PT1'\")"
   ]
  },
  {
   "cell_type": "code",
   "execution_count": 49,
   "metadata": {},
   "outputs": [
    {
     "name": "stdout",
     "output_type": "stream",
     "text": [
      "('Sandra', 'Nicholes', 'PT1', 'Bachelor')\n",
      "('Kate', 'Kalowski', 'Master Trainer', 'Bachelor')\n",
      "('Barbara', 'Vivoski', 'Master Trainer', 'Bachelor')\n",
      "('Jennifer', 'Shulz', 'Master Trainer', 'Bachelor')\n",
      "('Camaryn', 'Coops', 'PT1', 'Bachelor')\n",
      "('Sandra', 'Livingston', 'Master Trainer', 'Bachelor')\n",
      "('Shelby', 'Thorp', 'PT2', 'Bachelor')\n",
      "('Sally', 'Mae', 'Master Trainer', 'Bachelor')\n"
     ]
    }
   ],
   "source": [
    "# Using the AND operator to filter results\n",
    "# Select only rows where the trainer is female and has a Bachelor degree\n",
    "query('SELECT first_name, last_name, ranking, education FROM trainers \\\n",
    "WHERE education = \"Bachelor\" AND gender = \"F\"')"
   ]
  },
  {
   "cell_type": "code",
   "execution_count": 50,
   "metadata": {},
   "outputs": [
    {
     "name": "stdout",
     "output_type": "stream",
     "text": [
      "('Vanessa', 'Cortez', 'F', 'Doctorate')\n",
      "('Sandra', 'Nicholes', 'F', 'Bachelor')\n",
      "('Kate', 'Kalowski', 'F', 'Bachelor')\n",
      "('Earnest', 'Finsky', 'M', 'Doctorate')\n",
      "('Barbara', 'Vivoski', 'F', 'Bachelor')\n",
      "('Jennifer', 'Shulz', 'F', 'Bachelor')\n",
      "('Camaryn', 'Coops', 'F', 'Bachelor')\n",
      "('Sandra', 'Livingston', 'F', 'Bachelor')\n",
      "('Shelby', 'Thorp', 'F', 'Bachelor')\n",
      "('Sean', 'Smith', 'M', 'Doctorate')\n",
      "('Sally', 'Mae', 'F', 'Bachelor')\n"
     ]
    }
   ],
   "source": [
    "# Expand on the above query but only include males if they have at least a Doctorate degree\n",
    "query(\"SELECT first_name, last_name, gender, education FROM trainers \\\n",
    "where (education  = 'Bachelor' AND gender = 'F') OR education = 'Doctorate'\")"
   ]
  },
  {
   "cell_type": "code",
   "execution_count": 16,
   "metadata": {},
   "outputs": [
    {
     "name": "stdout",
     "output_type": "stream",
     "text": [
      "(15, 'Camaryn', 'Coops', 21, 'F', 'PT1', 3, 'extrovert', 'Bachelor')\n",
      "(19, 'Sean', 'Smith', 41, 'M', 'Master Trainer', 31, 'introvert', 'Doctorate')\n"
     ]
    }
   ],
   "source": [
    "# Select only those with last name of 'Coops' or a last name of 'Smith' but only if they have a Doctorate\n",
    "query('SELECT * FROM trainers \\\n",
    "WHERE last_name = \"Coops\" OR last_name = \"Smith\" AND education = \"Doctorate\"')\n",
    "# Notice how 'Coops' is returned, but has a Bachelor degree. We only wanted those with a Doctorate returned.\n",
    "# This is where it helps to understand the logical operator precedence. 'And' has higher precedence than 'OR'.\n"
   ]
  },
  {
   "cell_type": "code",
   "execution_count": 17,
   "metadata": {},
   "outputs": [
    {
     "name": "stdout",
     "output_type": "stream",
     "text": [
      "(19, 'Sean', 'Smith', 41, 'M', 'Master Trainer', 31, 'introvert', 'Doctorate')\n"
     ]
    }
   ],
   "source": [
    "# This time I will put parentheses to change the order of precedence\n",
    "query('SELECT * FROM trainers \\\n",
    "WHERE (last_name = \"Coops\" OR last_name = \"Smith\") AND education = \"Doctorate\"')"
   ]
  },
  {
   "cell_type": "code",
   "execution_count": 26,
   "metadata": {},
   "outputs": [
    {
     "name": "stdout",
     "output_type": "stream",
     "text": [
      "('Donlee', 'Milar', 'Master', 'Master Trainer')\n",
      "('Sandra', 'Nicholes', 'Bachelor', 'PT1')\n",
      "('Kate', 'Kalowski', 'Bachelor', 'Master Trainer')\n",
      "('Barbara', 'Vivoski', 'Bachelor', 'Master Trainer')\n",
      "('Wilmer', 'Smith', 'Bachelor', 'PT1')\n",
      "('Jennifer', 'Shulz', 'Bachelor', 'Master Trainer')\n",
      "('Camaryn', 'Coops', 'Bachelor', 'PT1')\n",
      "('Sandra', 'Livingston', 'Bachelor', 'Master Trainer')\n",
      "('Sally', 'Mae', 'Bachelor', 'Master Trainer')\n"
     ]
    }
   ],
   "source": [
    "# I will be using the IN statement to select multiple values. This can be used in place of having to use several 'ORs'\n",
    "# I will only select those with a Bachelor or Master degree.\n",
    "# The results will further be filtered to only include those with a ranking of PT1 or Master Trainer\n",
    "\n",
    "query(\"SELECT first_name, last_name, education, ranking \\\n",
    "FROM trainers \\\n",
    "WHERE (ranking IN ('PT1', 'Master Trainer')) AND (education IN ('Bachelor', 'Master'))\")"
   ]
  },
  {
   "cell_type": "code",
   "execution_count": 27,
   "metadata": {},
   "outputs": [
    {
     "name": "stdout",
     "output_type": "stream",
     "text": [
      "('Earnest', 'Finsky', 'Doctorate', 'PT2')\n"
     ]
    }
   ],
   "source": [
    "# Writing the same query as above but this time using NOT IN\n",
    "query(\"SELECT first_name, last_name, education, ranking \\\n",
    "FROM trainers \\\n",
    "WHERE (ranking NOT IN ('PT1', 'Master Trainer')) AND (education NOT IN ('Bachelor', 'Master'))\")"
   ]
  },
  {
   "cell_type": "code",
   "execution_count": 63,
   "metadata": {},
   "outputs": [
    {
     "name": "stdout",
     "output_type": "stream",
     "text": [
      "('Jack', 'Rabbit', 4)\n",
      "('Donlee', 'Milar', 6)\n",
      "('Vanessa', 'Cortez', 7)\n",
      "('Mike', 'Wilkersand', 4)\n",
      "('James', 'Pelowski', 5)\n",
      "('Sandra', 'Nicholes', 6)\n",
      "('Kate', 'Kalowski', 4)\n",
      "('Earnest', 'Finsky', 7)\n",
      "('John', 'Earnst', 4)\n",
      "('Tate', 'Michaels', 4)\n",
      "('Barbara', 'Vivoski', 7)\n",
      "('Wilmer', 'Smith', 6)\n",
      "('Bart', 'Solemny', 4)\n",
      "('Jennifer', 'Shulz', 8)\n",
      "('Camaryn', 'Coops', 7)\n",
      "('Sandra', 'Livingston', 6)\n",
      "('Brad', 'Wiggins', 4)\n",
      "('Shelby', 'Thorp', 6)\n",
      "('Sean', 'Smith', 4)\n",
      "('Sally', 'Mae', 5)\n"
     ]
    }
   ],
   "source": [
    "# Who has the longest name (including both first and last name)?\n",
    "# First, I will query the length for each first name using CHAR_LENGTH() function\n",
    "query(\"SELECT first_name, last_name, CHAR_LENGTH(first_name) \\\n",
    "FROM trainers\")"
   ]
  },
  {
   "cell_type": "code",
   "execution_count": 4,
   "metadata": {},
   "outputs": [],
   "source": [
    "# Defining a new function that also returns the column names that are selected\n",
    "def query2(sql):\n",
    "    mysql.execute(sql)\n",
    "    result = mysql.fetchall()\n",
    "    num_fields = len(mysql.description)\n",
    "    field_names = [i[0] for i in mysql.description] # Will display the column names that are selected\n",
    "    print(field_names)\n",
    "    for x in result:\n",
    "        print(x) "
   ]
  },
  {
   "cell_type": "code",
   "execution_count": 9,
   "metadata": {},
   "outputs": [
    {
     "name": "stdout",
     "output_type": "stream",
     "text": [
      "['id', 'first_name', 'last_name', 'age', 'gender', 'ranking', 'number_of_clients', 'personality', 'education']\n",
      "(1, 'Jack', 'Rabbit', 41, 'M', 'PT3', 44, 'extrovert', 'Master')\n",
      "(2, 'Donlee', 'Milar', 45, 'M', 'Master Trainer', 0, 'introvert', 'Master')\n",
      "(3, 'Vanessa', 'Cortez', 38, 'F', 'Master Trainer', 45, 'extrovert', 'Doctorate')\n",
      "(4, 'Mike', 'Wilkersand', 29, 'M', 'PT3', 22, 'extrovert', 'Master')\n",
      "(5, 'James', 'Pelowski', 31, 'M', 'PT2', 8, 'introvert', 'Bachelor')\n",
      "(6, 'Sandra', 'Nicholes', 28, 'F', 'PT1', 5, 'introvert', 'Bachelor')\n",
      "(7, 'Kate', 'Kalowski', 41, 'F', 'Master Trainer', 33, 'extrovert', 'Bachelor')\n",
      "(8, 'Earnest', 'Finsky', 48, 'M', 'PT2', 3, 'introvert', 'Doctorate')\n",
      "(9, 'John', 'Earnst', 21, 'M', 'PT3', 17, 'extrovert', 'Master')\n",
      "(10, 'Tate', 'Michaels', 23, 'M', 'PT3', 20, 'extrovert', 'Master')\n",
      "(11, 'Barbara', 'Vivoski', 27, 'F', 'Master Trainer', 26, 'extrovert', 'Bachelor')\n",
      "(12, 'Wilmer', 'Smith', 24, 'M', 'PT1', 2, 'introvert', 'Bachelor')\n",
      "(13, 'Bart', 'Solemny', 33, 'M', 'PT3', 18, 'introvert', 'Master')\n",
      "(14, 'Jennifer', 'Shulz', 28, 'F', 'Master Trainer', 1, 'extrovert', 'Bachelor')\n",
      "(15, 'Camaryn', 'Coops', 21, 'F', 'PT1', 3, 'extrovert', 'Bachelor')\n",
      "(16, 'Sandra', 'Livingston', 31, 'F', 'Master Trainer', 11, 'introvert', 'Bachelor')\n",
      "(17, 'Brad', 'Wiggins', 25, 'M', 'PT3', 19, 'extrovert', 'Master')\n",
      "(18, 'Shelby', 'Thorp', 32, 'F', 'PT2', 8, 'introvert', 'Bachelor')\n",
      "(19, 'Sean', 'Smith', 41, 'M', 'Master Trainer', 31, 'introvert', 'Doctorate')\n",
      "(20, 'Sally', 'Mae', 61, 'F', 'Master Trainer', 2, 'extrovert', 'Bachelor')\n"
     ]
    }
   ],
   "source": [
    "# Testing out the function\n",
    "query2(\"Select * FROM trainers\")"
   ]
  },
  {
   "cell_type": "code",
   "execution_count": 10,
   "metadata": {},
   "outputs": [
    {
     "name": "stdout",
     "output_type": "stream",
     "text": [
      "['first_name', 'last_name', 'First name length', 'Last name length']\n",
      "('Jack', 'Rabbit', 4, 6)\n",
      "('Donlee', 'Milar', 6, 5)\n",
      "('Vanessa', 'Cortez', 7, 6)\n",
      "('Mike', 'Wilkersand', 4, 10)\n",
      "('James', 'Pelowski', 5, 8)\n",
      "('Sandra', 'Nicholes', 6, 8)\n",
      "('Kate', 'Kalowski', 4, 8)\n",
      "('Earnest', 'Finsky', 7, 6)\n",
      "('John', 'Earnst', 4, 6)\n",
      "('Tate', 'Michaels', 4, 8)\n",
      "('Barbara', 'Vivoski', 7, 7)\n",
      "('Wilmer', 'Smith', 6, 5)\n",
      "('Bart', 'Solemny', 4, 7)\n",
      "('Jennifer', 'Shulz', 8, 5)\n",
      "('Camaryn', 'Coops', 7, 5)\n",
      "('Sandra', 'Livingston', 6, 10)\n",
      "('Brad', 'Wiggins', 4, 7)\n",
      "('Shelby', 'Thorp', 6, 5)\n",
      "('Sean', 'Smith', 4, 5)\n",
      "('Sally', 'Mae', 5, 3)\n"
     ]
    }
   ],
   "source": [
    "# Writing out a query that uses aliases and prints out both first and last name along with the length for both.\n",
    "query2(\"Select first_name, last_name, CHAR_LENGTH(first_name) AS 'First name length', \\\n",
    "CHAR_LENGTH(last_name) AS 'Last name length' FROM trainers\")"
   ]
  },
  {
   "cell_type": "code",
   "execution_count": 32,
   "metadata": {},
   "outputs": [
    {
     "name": "stdout",
     "output_type": "stream",
     "text": [
      "['number_of_letters']\n",
      "(10,)\n",
      "(11,)\n",
      "(13,)\n",
      "(14,)\n",
      "(13,)\n",
      "(14,)\n",
      "(12,)\n",
      "(13,)\n",
      "(10,)\n",
      "(12,)\n",
      "(14,)\n",
      "(11,)\n",
      "(11,)\n",
      "(13,)\n",
      "(12,)\n",
      "(16,)\n",
      "(11,)\n",
      "(11,)\n",
      "(9,)\n",
      "(8,)\n"
     ]
    }
   ],
   "source": [
    "# Writing a query that totals up the number of letter in both the first and last name\n",
    "query2(\"SELECT (CHAR_LENGTH(first_name) + CHAR_LENGTH(last_name)) AS number_of_letters FROM trainers\")"
   ]
  },
  {
   "cell_type": "code",
   "execution_count": 37,
   "metadata": {},
   "outputs": [
    {
     "name": "stdout",
     "output_type": "stream",
     "text": [
      "['Data']\n",
      "('Sandra Livingston contains 16 letters.',)\n",
      "('Mike Wilkersand contains 14 letters.',)\n",
      "('Sandra Nicholes contains 14 letters.',)\n",
      "('Barbara Vivoski contains 14 letters.',)\n",
      "('Vanessa Cortez contains 13 letters.',)\n",
      "('James Pelowski contains 13 letters.',)\n",
      "('Earnest Finsky contains 13 letters.',)\n",
      "('Jennifer Shulz contains 13 letters.',)\n",
      "('Kate Kalowski contains 12 letters.',)\n",
      "('Tate Michaels contains 12 letters.',)\n",
      "('Camaryn Coops contains 12 letters.',)\n",
      "('Donlee Milar contains 11 letters.',)\n",
      "('Wilmer Smith contains 11 letters.',)\n",
      "('Bart Solemny contains 11 letters.',)\n",
      "('Brad Wiggins contains 11 letters.',)\n",
      "('Shelby Thorp contains 11 letters.',)\n",
      "('Jack Rabbit contains 10 letters.',)\n",
      "('John Earnst contains 10 letters.',)\n",
      "('Sean Smith contains 9 letters.',)\n",
      "('Sally Mae contains 8 letters.',)\n"
     ]
    }
   ],
   "source": [
    "# Writing a query that will put it all together in a setence format like so and order the results by longest name\n",
    "# Jack Rabbit contains 10 letters.\n",
    "query2(\"SELECT CONCAT(first_name, ' ', last_name, ' contains ', (CHAR_LENGTH(first_name) + CHAR_LENGTH(last_name)), \\\n",
    "' letters.') AS 'Data' FROM trainers \\\n",
    "ORDER BY (CHAR_LENGTH(first_name) + CHAR_LENGTH(last_name)) DESC\")"
   ]
  },
  {
   "cell_type": "code",
   "execution_count": 52,
   "metadata": {},
   "outputs": [
    {
     "name": "stdout",
     "output_type": "stream",
     "text": [
      "['Abreviated Name']\n",
      "('V.C.',)\n",
      "('C.C.',)\n",
      "('J.E.',)\n",
      "('E.F.',)\n",
      "('K.K.',)\n",
      "('S.L.',)\n",
      "('D.M.',)\n",
      "('T.M.',)\n",
      "('S.M.',)\n",
      "('S.N.',)\n",
      "('J.P.',)\n",
      "('J.R.',)\n",
      "('W.S.',)\n",
      "('B.S.',)\n",
      "('J.S.',)\n",
      "('S.S.',)\n",
      "('S.T.',)\n",
      "('B.V.',)\n",
      "('M.W.',)\n",
      "('B.W.',)\n"
     ]
    }
   ],
   "source": [
    "# Return only the first letter of both the first and last name as one column and order by last name alphabetically\n",
    "# Format should be as follows: A.B.\n",
    "query2(\"SELECT CONCAT(LEFT(first_name, 1), '.', LEFT(last_name, 1), '.') AS 'Abreviated Name' FROM trainers \\\n",
    "ORDER BY LEFT(last_name, 1)\")"
   ]
  },
  {
   "cell_type": "code",
   "execution_count": 54,
   "metadata": {},
   "outputs": [
    {
     "name": "stdout",
     "output_type": "stream",
     "text": [
      "['first_name', 'last_name', 'Reversed']\n",
      "('Jack', 'Rabbit', 'kcaJ tibbaR')\n",
      "('Donlee', 'Milar', 'eelnoD raliM')\n",
      "('Vanessa', 'Cortez', 'assenaV zetroC')\n",
      "('Mike', 'Wilkersand', 'ekiM dnasrekliW')\n",
      "('James', 'Pelowski', 'semaJ ikswoleP')\n",
      "('Sandra', 'Nicholes', 'ardnaS selohciN')\n",
      "('Kate', 'Kalowski', 'etaK ikswolaK')\n",
      "('Earnest', 'Finsky', 'tsenraE yksniF')\n",
      "('John', 'Earnst', 'nhoJ tsnraE')\n",
      "('Tate', 'Michaels', 'etaT sleahciM')\n",
      "('Barbara', 'Vivoski', 'arabraB iksoviV')\n",
      "('Wilmer', 'Smith', 'remliW htimS')\n",
      "('Bart', 'Solemny', 'traB ynmeloS')\n",
      "('Jennifer', 'Shulz', 'refinneJ zluhS')\n",
      "('Camaryn', 'Coops', 'nyramaC spooC')\n",
      "('Sandra', 'Livingston', 'ardnaS notsgniviL')\n",
      "('Brad', 'Wiggins', 'darB sniggiW')\n",
      "('Shelby', 'Thorp', 'yblehS prohT')\n",
      "('Sean', 'Smith', 'naeS htimS')\n",
      "('Sally', 'Mae', 'yllaS eaM')\n"
     ]
    }
   ],
   "source": [
    "# Return first and last name, then first and last name concatenated and reversed.\n",
    "query2(\"SELECT first_name, last_name, CONCAT(REVERSE(first_name), ' ', REVERSE(last_name)) AS Reversed FROM trainers\")"
   ]
  },
  {
   "cell_type": "code",
   "execution_count": 55,
   "metadata": {},
   "outputs": [
    {
     "name": "stdout",
     "output_type": "stream",
     "text": [
      "['Repeated']\n",
      "('JackJackJackJackJackJackJackJackJackJackRabbitRabbitRabbitRabbitRabbitRabbitRabbitRabbitRabbitRabbit',)\n"
     ]
    }
   ],
   "source": [
    "# Return the name Jack Rabbit 10 times. The format should be Jack Rabbit Jack Rabbit... * 10\n",
    "# Note the location of CONCAT and REPEAT in both of the queries below\n",
    "query2(\"SELECT CONCAT(REPEAT(first_name, 10), REPEAT(last_name, 10)) AS Repeated FROM trainers \\\n",
    "WHERE first_name = 'Jack' and last_name = 'Rabbit'\")"
   ]
  },
  {
   "cell_type": "code",
   "execution_count": 61,
   "metadata": {},
   "outputs": [
    {
     "name": "stdout",
     "output_type": "stream",
     "text": [
      "['Repeated']\n",
      "('Jack Rabbit Jack Rabbit Jack Rabbit Jack Rabbit Jack Rabbit Jack Rabbit Jack Rabbit Jack Rabbit Jack Rabbit Jack Rabbit ',)\n"
     ]
    }
   ],
   "source": [
    "# Placing REPEAT outside the parentheses to get the desired result\n",
    "query2(\"SELECT REPEAT(CONCAT(first_name, ' ', last_name, ' '), 10) AS Repeated FROM trainers \\\n",
    "WHERE first_name = 'Jack' and last_name = 'Rabbit'\") "
   ]
  },
  {
   "cell_type": "code",
   "execution_count": 70,
   "metadata": {},
   "outputs": [
    {
     "name": "stdout",
     "output_type": "stream",
     "text": [
      "['first_name', 'last_name', 'first_3', 'last_4']\n",
      "('Jack', 'Rabbit', 'jac', 'BBIT')\n",
      "('Donlee', 'Milar', 'don', 'ILAR')\n",
      "('Vanessa', 'Cortez', 'van', 'RTEZ')\n",
      "('Mike', 'Wilkersand', 'mik', 'SAND')\n",
      "('James', 'Pelowski', 'jam', 'WSKI')\n",
      "('Sandra', 'Nicholes', 'san', 'OLES')\n",
      "('Kate', 'Kalowski', 'kat', 'WSKI')\n",
      "('Earnest', 'Finsky', 'ear', 'NSKY')\n",
      "('John', 'Earnst', 'joh', 'RNST')\n",
      "('Tate', 'Michaels', 'tat', 'AELS')\n",
      "('Barbara', 'Vivoski', 'bar', 'OSKI')\n",
      "('Wilmer', 'Smith', 'wil', 'MITH')\n",
      "('Bart', 'Solemny', 'bar', 'EMNY')\n",
      "('Jennifer', 'Shulz', 'jen', 'HULZ')\n",
      "('Camaryn', 'Coops', 'cam', 'OOPS')\n",
      "('Sandra', 'Livingston', 'san', 'STON')\n",
      "('Brad', 'Wiggins', 'bra', 'GINS')\n",
      "('Shelby', 'Thorp', 'she', 'HORP')\n",
      "('Sean', 'Smith', 'sea', 'MITH')\n",
      "('Sally', 'Mae', 'sal', '')\n"
     ]
    }
   ],
   "source": [
    "''' Return first_name, last_name, then only the first three letters of the first_name lower cased, and\n",
    "the last four letters of the last name upper cased'''\n",
    "query2(\"SELECT first_name, last_name, LOWER(SUBSTR(first_name FROM 1 FOR 3)) AS first_3, \\\n",
    "UPPER(SUBSTR(last_name, -4)) AS last_4 FROM trainers\")"
   ]
  },
  {
   "cell_type": "code",
   "execution_count": 74,
   "metadata": {},
   "outputs": [
    {
     "name": "stdout",
     "output_type": "stream",
     "text": [
      "['first_name', 'ski to sky']\n",
      "('Jack', 'Rabbit Rabbit')\n",
      "('Donlee', 'Milar Milar')\n",
      "('Vanessa', 'Cortez Cortez')\n",
      "('Mike', 'Wilkersand Wilkersand')\n",
      "('James', 'Pelowski Pelowsky')\n",
      "('Sandra', 'Nicholes Nicholes')\n",
      "('Kate', 'Kalowski Kalowsky')\n",
      "('Earnest', 'Finsky Finsky')\n",
      "('John', 'Earnst Earnst')\n",
      "('Tate', 'Michaels Michaels')\n",
      "('Barbara', 'Vivoski Vivosky')\n",
      "('Wilmer', 'Smith Smith')\n",
      "('Bart', 'Solemny Solemny')\n",
      "('Jennifer', 'Shulz Shulz')\n",
      "('Camaryn', 'Coops Coops')\n",
      "('Sandra', 'Livingston Livingston')\n",
      "('Brad', 'Wiggins Wiggins')\n",
      "('Shelby', 'Thorp Thorp')\n",
      "('Sean', 'Smith Smith')\n",
      "('Sally', 'Mae Mae')\n"
     ]
    }
   ],
   "source": [
    "'''Return the first name and then the last name twice as one column to be able to see the changes\n",
    "when using the REPLACE function. Using the REPLACE function\n",
    "change the names that have \"ski\" as the last three letters to \"sky\"'''\n",
    "query2(\"SELECT first_name, CONCAT(last_name, ' ', REPLACE(last_name, 'ski', 'sky')) AS 'ski to sky' FROM trainers\")"
   ]
  },
  {
   "cell_type": "markdown",
   "metadata": {},
   "source": [
    "#### Crazy query time!\n",
    "Return the first_name and last_name columns as one column labeled as 'full name'. This first column will be used as a reference to make sure the query has the desired output. For the next column, only print out the second and third letters of the first name uppercased and reversed and label the column as 'reversed_2'. For the third and final column print only the three letters before the final letter of the last name upper cased and repeated three times, and label as 'repeated x 3'. Order by last name starting from the letter Z. I now wish myself luck. Upon successful completion, it will be time to create a new notebook where I will go over aggregate functions, GROUP BY AND HAVING statements, and get into some CASE statements.\n",
    " "
   ]
  },
  {
   "cell_type": "code",
   "execution_count": 21,
   "metadata": {},
   "outputs": [
    {
     "name": "stdout",
     "output_type": "stream",
     "text": [
      "['full name', 'reversed_2', 'repeated x 3']\n",
      "('Mike Wilkersand', 'KI', 'SANSANSAN')\n",
      "('Brad Wiggins', 'AR', 'GINGINGIN')\n",
      "('Barbara Vivoski', 'RA', 'OSKOSKOSK')\n",
      "('Shelby Thorp', 'EH', 'HORHORHOR')\n",
      "('Bart Solemny', 'RA', 'EMNEMNEMN')\n",
      "('Wilmer Smith', 'LI', 'MITMITMIT')\n",
      "('Sean Smith', 'AE', 'MITMITMIT')\n",
      "('Jennifer Shulz', 'NE', 'HULHULHUL')\n",
      "('Jack Rabbit', 'CA', 'BBIBBIBBI')\n",
      "('James Pelowski', 'MA', 'WSKWSKWSK')\n",
      "('Sandra Nicholes', 'NA', 'OLEOLEOLE')\n",
      "('Donlee Milar', 'NO', 'ILAILAILA')\n",
      "('Tate Michaels', 'TA', 'AELAELAEL')\n",
      "('Sally Mae', 'LA', '')\n",
      "('Sandra Livingston', 'NA', 'STOSTOSTO')\n",
      "('Kate Kalowski', 'TA', 'WSKWSKWSK')\n",
      "('Earnest Finsky', 'RA', 'NSKNSKNSK')\n",
      "('John Earnst', 'HO', 'RNSRNSRNS')\n",
      "('Vanessa Cortez', 'NA', 'RTERTERTE')\n",
      "('Camaryn Coops', 'MA', 'OOPOOPOOP')\n"
     ]
    }
   ],
   "source": [
    "query2(\"SELECT CONCAT(first_name, ' ', last_name) AS 'full name', \\\n",
    "REVERSE(UPPER(SUBSTR(first_name FROM 2 for 2))) AS 'reversed_2', \\\n",
    "REPEAT(UPPER(SUBSTR(last_name FROM -4 FOR 3)), 3) AS 'repeated x 3' FROM trainers \\\n",
    "ORDER BY last_name DESC\")\n",
    " "
   ]
  },
  {
   "cell_type": "markdown",
   "metadata": {},
   "source": [
    "This concludes part 1 of Python and MySQL."
   ]
  },
  {
   "cell_type": "markdown",
   "metadata": {},
   "source": [
    "#### Resources\n",
    "* https://stackoverflow.com/questions/38400476/mysql-python-unread-result-found-when-insert-result-into-table\n",
    "* https://medium.com/@tattwei46/how-to-use-python-with-mysql-79304bee8753\n",
    "* https://www.semicolonworld.com/question/59047/mysql-get-column-name-or-alias-from-query\n",
    "* https://dev.mysql.com/doc/refman/8.0/en/string-functions.html"
   ]
  },
  {
   "cell_type": "code",
   "execution_count": null,
   "metadata": {},
   "outputs": [],
   "source": []
  }
 ],
 "metadata": {
  "kernelspec": {
   "display_name": "Python 3",
   "language": "python",
   "name": "python3"
  },
  "language_info": {
   "codemirror_mode": {
    "name": "ipython",
    "version": 3
   },
   "file_extension": ".py",
   "mimetype": "text/x-python",
   "name": "python",
   "nbconvert_exporter": "python",
   "pygments_lexer": "ipython3",
   "version": "3.7.6"
  }
 },
 "nbformat": 4,
 "nbformat_minor": 4
}
